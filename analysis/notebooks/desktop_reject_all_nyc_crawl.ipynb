{
 "cells": [
  {
   "cell_type": "code",
   "execution_count": 6,
   "metadata": {},
   "outputs": [],
   "source": [
    "import pandas as pd\n",
    "from tld import get_fld\n",
    "import pickle\n",
    "import sys\n",
    "from collections import defaultdict, Counter\n",
    "import os\n",
    "import random\n",
    "from leak_common import add_adblocked_status, get_domain, add_rank_col, get_initiators, add_sniffer_domain_col, find_prominence, is_req_off_site_direction, get_entity, check_sniff_initiators, belong_to_same_entity, get_sniffs\n",
    "import networkx as nx\n",
    "import matplotlib.pyplot as plt"
   ]
  },
  {
   "cell_type": "code",
   "execution_count": 7,
   "metadata": {},
   "outputs": [],
   "source": [
    "with open('extra_tracker_domains.pkl', 'rb') as handle:\n",
    "    extra_tracker_domains = pickle.load(handle)"
   ]
  },
  {
   "cell_type": "markdown",
   "metadata": {},
   "source": [
    "# Read from pickles"
   ]
  },
  {
   "cell_type": "code",
   "execution_count": 38,
   "metadata": {},
   "outputs": [],
   "source": [
    "df = pd.read_csv('nyc_desktop_reject_all.csv', sep='\\t', encoding='utf-8')"
   ]
  },
  {
   "cell_type": "markdown",
   "metadata": {},
   "source": [
    "# Additional Columns"
   ]
  },
  {
   "cell_type": "code",
   "execution_count": 39,
   "metadata": {},
   "outputs": [],
   "source": [
    "df['is_blocked'] = df.easy_list_blocked | df.easy_privacy_blocked | df.disconnect_blocked | df.whotracksme_blocked | (df.tds_blocked) | (df.ublock_blocked) | (df.request_url_domain.isin(extra_tracker_domains))\n",
    "\n",
    "df['tracker_related'] = df.third_party_req & df.is_blocked"
   ]
  },
  {
   "cell_type": "markdown",
   "metadata": {},
   "source": [
    "# All Requests"
   ]
  },
  {
   "cell_type": "code",
   "execution_count": 14,
   "metadata": {},
   "outputs": [],
   "source": [
    "all_reqs = df\n",
    "unique_all_reqs = all_reqs.drop_duplicates(['initial_hostname', 'search_type', 'request_url_domain', 'encoding', 'leak_type'])\n",
    "all_reqs_email = all_reqs[all_reqs.search_type == 'email']\n",
    "unique_all_reqs_email = all_reqs_email.drop_duplicates(['initial_hostname', 'search_type', 'request_url_domain', 'encoding', 'leak_type'])"
   ]
  },
  {
   "cell_type": "code",
   "execution_count": 15,
   "metadata": {
    "scrolled": true
   },
   "outputs": [
    {
     "name": "stdout",
     "output_type": "stream",
     "text": [
      "all_reqs:  22340\n",
      "unique_all_reqs:  7887\n",
      "all_reqs_email:  19379\n",
      "unique_all_reqs_email:  6551\n"
     ]
    }
   ],
   "source": [
    "print('all_reqs: ', len(all_reqs))\n",
    "print('unique_all_reqs: ', len(unique_all_reqs))\n",
    "print('all_reqs_email: ', len(all_reqs_email))\n",
    "print('unique_all_reqs_email: ', len(unique_all_reqs_email))"
   ]
  },
  {
   "cell_type": "markdown",
   "metadata": {},
   "source": [
    "# Third Party Requests"
   ]
  },
  {
   "cell_type": "code",
   "execution_count": 16,
   "metadata": {},
   "outputs": [],
   "source": [
    "third_party_reqs = df[df.third_party_req & ~df.is_req_off_site_direction]\n",
    "unique_third_party_reqs = third_party_reqs.drop_duplicates(['initial_hostname', 'search_type', 'request_url_domain', 'encoding', 'leak_type'])\n",
    "third_party_reqs_email = third_party_reqs[third_party_reqs.search_type == 'email']\n",
    "unique_third_party_reqs_email = third_party_reqs_email.drop_duplicates(['initial_hostname', 'search_type', 'request_url_domain', 'encoding', 'leak_type'])"
   ]
  },
  {
   "cell_type": "code",
   "execution_count": 17,
   "metadata": {
    "scrolled": true
   },
   "outputs": [
    {
     "name": "stdout",
     "output_type": "stream",
     "text": [
      "third_party_reqs:  12967\n",
      "unique_third_party_reqs:  4647\n",
      "third_party_reqs_email:  12415\n",
      "unique_third_party_reqs_email:  4442\n"
     ]
    }
   ],
   "source": [
    "print('third_party_reqs: ', len(third_party_reqs))\n",
    "print('unique_third_party_reqs: ', len(unique_third_party_reqs))\n",
    "print('third_party_reqs_email: ', len(third_party_reqs_email))\n",
    "print('unique_third_party_reqs_email: ', len(unique_third_party_reqs_email))"
   ]
  },
  {
   "cell_type": "markdown",
   "metadata": {},
   "source": [
    "# Tracking Related Requests"
   ]
  },
  {
   "cell_type": "code",
   "execution_count": 18,
   "metadata": {},
   "outputs": [],
   "source": [
    "tracker_related_reqs_df = df[~df.is_req_off_site_direction & (df.leak_type!='response_cookie_leaks') & (df.leak_type!='response_location_leaks') &(df.tracker_related) & ((df.final_url_domain == df.last_page_domain) | (df.initial_url == df.last_page_domain))]\n",
    "#tracker_related_reqs_df = df[(df.leak_type!='response_cookie_leaks') & (df.leak_type!='response_location_leaks') &(df.tracker_related) & ((df.final_url_domain == df.last_page_domain) | (df.initial_url == df.last_page_domain))]\n",
    "unique_tracking_related_df = tracker_related_reqs_df.drop_duplicates(['initial_hostname', 'search_type', 'request_url_domain', 'encoding', 'leak_type'],keep='last')\n",
    "email_leaks = tracker_related_reqs_df[tracker_related_reqs_df.search_type == 'email']\n",
    "unique_email_leaks = email_leaks.drop_duplicates(['initial_hostname', 'search_type', 'request_url_domain', 'encoding', 'leak_type'])"
   ]
  },
  {
   "cell_type": "code",
   "execution_count": 19,
   "metadata": {
    "scrolled": true
   },
   "outputs": [
    {
     "name": "stdout",
     "output_type": "stream",
     "text": [
      "tracker_related_reqs_df:  8088\n",
      "unique_tracking_related_df:  3366\n",
      "email_leaks:  7713\n",
      "unique_email_leaks:  3242\n"
     ]
    }
   ],
   "source": [
    "print('tracker_related_reqs_df: ', len(tracker_related_reqs_df))\n",
    "print('unique_tracking_related_df: ', len(unique_tracking_related_df))\n",
    "print('email_leaks: ', len(email_leaks))\n",
    "print('unique_email_leaks: ', len(unique_email_leaks))"
   ]
  },
  {
   "cell_type": "markdown",
   "metadata": {},
   "source": [
    "# High Level Statistics"
   ]
  },
  {
   "cell_type": "code",
   "execution_count": 41,
   "metadata": {
    "scrolled": false
   },
   "outputs": [
    {
     "name": "stdout",
     "output_type": "stream",
     "text": [
      "Distinct websites where emails are leaked to both 1st, 3rd parties and tracker domains:  4395\n",
      "Distinct websites where emails are leaked to both 3rd parties and tracker domains:  2633\n",
      "Distinct websites where emails are leaked to only tracker domains:  1844\n"
     ]
    }
   ],
   "source": [
    "print('Distinct websites where emails are leaked to both 1st, 3rd parties and tracker domains: ',len(all_reqs_email.drop_duplicates('initial_hostname')))\n",
    "print('Distinct websites where emails are leaked to both 3rd parties and tracker domains: ',len(unique_third_party_reqs_email.drop_duplicates('initial_hostname')))\n",
    "print('Distinct websites where emails are leaked to only tracker domains: ',len(unique_email_leaks.drop_duplicates('initial_hostname')))"
   ]
  },
  {
   "cell_type": "markdown",
   "metadata": {},
   "source": [
    "# Prominence"
   ]
  },
  {
   "cell_type": "code",
   "execution_count": 46,
   "metadata": {},
   "outputs": [],
   "source": [
    "prominence_list = find_prominence(unique_tracking_related_df[unique_tracking_related_df.search_type=='email'])"
   ]
  },
  {
   "cell_type": "code",
   "execution_count": 47,
   "metadata": {},
   "outputs": [],
   "source": [
    "prominence_df = pd.DataFrame(prominence_list, columns=['domain','prominence', 'number_of_sites']) "
   ]
  },
  {
   "cell_type": "code",
   "execution_count": 48,
   "metadata": {},
   "outputs": [
    {
     "data": {
      "text/html": [
       "<div>\n",
       "<style scoped>\n",
       "    .dataframe tbody tr th:only-of-type {\n",
       "        vertical-align: middle;\n",
       "    }\n",
       "\n",
       "    .dataframe tbody tr th {\n",
       "        vertical-align: top;\n",
       "    }\n",
       "\n",
       "    .dataframe thead th {\n",
       "        text-align: right;\n",
       "    }\n",
       "</style>\n",
       "<table border=\"1\" class=\"dataframe\">\n",
       "  <thead>\n",
       "    <tr style=\"text-align: right;\">\n",
       "      <th></th>\n",
       "      <th>domain</th>\n",
       "      <th>prominence</th>\n",
       "      <th>number_of_sites</th>\n",
       "    </tr>\n",
       "  </thead>\n",
       "  <tbody>\n",
       "    <tr>\n",
       "      <th>17</th>\n",
       "      <td>taboola.com</td>\n",
       "      <td>0.030292</td>\n",
       "      <td>327</td>\n",
       "    </tr>\n",
       "    <tr>\n",
       "      <th>22</th>\n",
       "      <td>bizible.com</td>\n",
       "      <td>0.017296</td>\n",
       "      <td>160</td>\n",
       "    </tr>\n",
       "    <tr>\n",
       "      <th>11</th>\n",
       "      <td>fullstory.com</td>\n",
       "      <td>0.007558</td>\n",
       "      <td>182</td>\n",
       "    </tr>\n",
       "    <tr>\n",
       "      <th>3</th>\n",
       "      <td>zenaps.com</td>\n",
       "      <td>0.004873</td>\n",
       "      <td>113</td>\n",
       "    </tr>\n",
       "    <tr>\n",
       "      <th>4</th>\n",
       "      <td>awin1.com</td>\n",
       "      <td>0.004850</td>\n",
       "      <td>112</td>\n",
       "    </tr>\n",
       "    <tr>\n",
       "      <th>5</th>\n",
       "      <td>yandex.com</td>\n",
       "      <td>0.004194</td>\n",
       "      <td>121</td>\n",
       "    </tr>\n",
       "    <tr>\n",
       "      <th>20</th>\n",
       "      <td>adroll.com</td>\n",
       "      <td>0.003962</td>\n",
       "      <td>117</td>\n",
       "    </tr>\n",
       "    <tr>\n",
       "      <th>62</th>\n",
       "      <td>glassboxdigital.io</td>\n",
       "      <td>0.003188</td>\n",
       "      <td>6</td>\n",
       "    </tr>\n",
       "    <tr>\n",
       "      <th>1</th>\n",
       "      <td>listrakbi.com</td>\n",
       "      <td>0.002485</td>\n",
       "      <td>91</td>\n",
       "    </tr>\n",
       "    <tr>\n",
       "      <th>0</th>\n",
       "      <td>bronto.com</td>\n",
       "      <td>0.002458</td>\n",
       "      <td>90</td>\n",
       "    </tr>\n",
       "    <tr>\n",
       "      <th>29</th>\n",
       "      <td>rlcdn.com</td>\n",
       "      <td>0.001994</td>\n",
       "      <td>11</td>\n",
       "    </tr>\n",
       "    <tr>\n",
       "      <th>39</th>\n",
       "      <td>salecycle.com</td>\n",
       "      <td>0.001751</td>\n",
       "      <td>35</td>\n",
       "    </tr>\n",
       "    <tr>\n",
       "      <th>37</th>\n",
       "      <td>gravatar.com</td>\n",
       "      <td>0.001666</td>\n",
       "      <td>38</td>\n",
       "    </tr>\n",
       "    <tr>\n",
       "      <th>19</th>\n",
       "      <td>facebook.com</td>\n",
       "      <td>0.001481</td>\n",
       "      <td>21</td>\n",
       "    </tr>\n",
       "    <tr>\n",
       "      <th>30</th>\n",
       "      <td>pardot.com</td>\n",
       "      <td>0.001265</td>\n",
       "      <td>36</td>\n",
       "    </tr>\n",
       "    <tr>\n",
       "      <th>13</th>\n",
       "      <td>okt.to</td>\n",
       "      <td>0.001135</td>\n",
       "      <td>31</td>\n",
       "    </tr>\n",
       "    <tr>\n",
       "      <th>6</th>\n",
       "      <td>freshrelevance.com</td>\n",
       "      <td>0.001022</td>\n",
       "      <td>34</td>\n",
       "    </tr>\n",
       "    <tr>\n",
       "      <th>26</th>\n",
       "      <td>gaconnector.com</td>\n",
       "      <td>0.000964</td>\n",
       "      <td>17</td>\n",
       "    </tr>\n",
       "    <tr>\n",
       "      <th>63</th>\n",
       "      <td>zoominfo.com</td>\n",
       "      <td>0.000919</td>\n",
       "      <td>18</td>\n",
       "    </tr>\n",
       "    <tr>\n",
       "      <th>15</th>\n",
       "      <td>smarterhq.io</td>\n",
       "      <td>0.000835</td>\n",
       "      <td>6</td>\n",
       "    </tr>\n",
       "  </tbody>\n",
       "</table>\n",
       "</div>"
      ],
      "text/plain": [
       "                domain  prominence  number_of_sites\n",
       "17         taboola.com    0.030292              327\n",
       "22         bizible.com    0.017296              160\n",
       "11       fullstory.com    0.007558              182\n",
       "3           zenaps.com    0.004873              113\n",
       "4            awin1.com    0.004850              112\n",
       "5           yandex.com    0.004194              121\n",
       "20          adroll.com    0.003962              117\n",
       "62  glassboxdigital.io    0.003188                6\n",
       "1        listrakbi.com    0.002485               91\n",
       "0           bronto.com    0.002458               90\n",
       "29           rlcdn.com    0.001994               11\n",
       "39       salecycle.com    0.001751               35\n",
       "37        gravatar.com    0.001666               38\n",
       "19        facebook.com    0.001481               21\n",
       "30          pardot.com    0.001265               36\n",
       "13              okt.to    0.001135               31\n",
       "6   freshrelevance.com    0.001022               34\n",
       "26     gaconnector.com    0.000964               17\n",
       "63        zoominfo.com    0.000919               18\n",
       "15        smarterhq.io    0.000835                6"
      ]
     },
     "execution_count": 48,
     "metadata": {},
     "output_type": "execute_result"
    }
   ],
   "source": [
    "prominence_df.sort_values('prominence',ascending=False).head(20)"
   ]
  },
  {
   "cell_type": "markdown",
   "metadata": {},
   "source": [
    "## Leak types"
   ]
  },
  {
   "cell_type": "code",
   "execution_count": 52,
   "metadata": {},
   "outputs": [
    {
     "data": {
      "text/plain": [
       "url_leaks     2362\n",
       "post_leaks    1004\n",
       "Name: leak_type, dtype: int64"
      ]
     },
     "execution_count": 52,
     "metadata": {},
     "output_type": "execute_result"
    }
   ],
   "source": [
    "unique_tracking_related_df.leak_type.value_counts()"
   ]
  },
  {
   "cell_type": "markdown",
   "metadata": {},
   "source": [
    "## Email leaks"
   ]
  },
  {
   "cell_type": "code",
   "execution_count": 53,
   "metadata": {},
   "outputs": [
    {
     "data": {
      "text/html": [
       "<div>\n",
       "<style scoped>\n",
       "    .dataframe tbody tr th:only-of-type {\n",
       "        vertical-align: middle;\n",
       "    }\n",
       "\n",
       "    .dataframe tbody tr th {\n",
       "        vertical-align: top;\n",
       "    }\n",
       "\n",
       "    .dataframe thead th {\n",
       "        text-align: right;\n",
       "    }\n",
       "</style>\n",
       "<table border=\"1\" class=\"dataframe\">\n",
       "  <thead>\n",
       "    <tr style=\"text-align: right;\">\n",
       "      <th></th>\n",
       "      <th>initial_url</th>\n",
       "      <th>rank_of_site</th>\n",
       "    </tr>\n",
       "  </thead>\n",
       "  <tbody>\n",
       "    <tr>\n",
       "      <th>20907</th>\n",
       "      <td>usatoday.com</td>\n",
       "      <td>154</td>\n",
       "    </tr>\n",
       "    <tr>\n",
       "      <th>12723</th>\n",
       "      <td>trello.com</td>\n",
       "      <td>242</td>\n",
       "    </tr>\n",
       "    <tr>\n",
       "      <th>6835</th>\n",
       "      <td>independent.co.uk</td>\n",
       "      <td>243</td>\n",
       "    </tr>\n",
       "    <tr>\n",
       "      <th>3357</th>\n",
       "      <td>shopify.com</td>\n",
       "      <td>300</td>\n",
       "    </tr>\n",
       "    <tr>\n",
       "      <th>2780</th>\n",
       "      <td>marriott.com</td>\n",
       "      <td>328</td>\n",
       "    </tr>\n",
       "    <tr>\n",
       "      <th>13998</th>\n",
       "      <td>newsweek.com</td>\n",
       "      <td>567</td>\n",
       "    </tr>\n",
       "    <tr>\n",
       "      <th>6211</th>\n",
       "      <td>prezi.com</td>\n",
       "      <td>705</td>\n",
       "    </tr>\n",
       "    <tr>\n",
       "      <th>18033</th>\n",
       "      <td>branch.io</td>\n",
       "      <td>754</td>\n",
       "    </tr>\n",
       "    <tr>\n",
       "      <th>15334</th>\n",
       "      <td>prothomalo.com</td>\n",
       "      <td>1153</td>\n",
       "    </tr>\n",
       "    <tr>\n",
       "      <th>8002</th>\n",
       "      <td>codecademy.com</td>\n",
       "      <td>1311</td>\n",
       "    </tr>\n",
       "    <tr>\n",
       "      <th>14511</th>\n",
       "      <td>azcentral.com</td>\n",
       "      <td>1543</td>\n",
       "    </tr>\n",
       "    <tr>\n",
       "      <th>17336</th>\n",
       "      <td>cloudflare.net</td>\n",
       "      <td>1571</td>\n",
       "    </tr>\n",
       "  </tbody>\n",
       "</table>\n",
       "</div>"
      ],
      "text/plain": [
       "             initial_url  rank_of_site\n",
       "20907       usatoday.com           154\n",
       "12723         trello.com           242\n",
       "6835   independent.co.uk           243\n",
       "3357         shopify.com           300\n",
       "2780        marriott.com           328\n",
       "13998       newsweek.com           567\n",
       "6211           prezi.com           705\n",
       "18033          branch.io           754\n",
       "15334     prothomalo.com          1153\n",
       "8002      codecademy.com          1311\n",
       "14511      azcentral.com          1543\n",
       "17336     cloudflare.net          1571"
      ]
     },
     "execution_count": 53,
     "metadata": {},
     "output_type": "execute_result"
    }
   ],
   "source": [
    "unique_email_leaks[unique_email_leaks['rank_of_site']<2000].drop_duplicates('initial_url').sort_values('rank_of_site')[['initial_url', 'rank_of_site']].head(12)"
   ]
  }
 ],
 "metadata": {
  "kernelspec": {
   "display_name": "Python 3",
   "language": "python",
   "name": "python3"
  },
  "language_info": {
   "codemirror_mode": {
    "name": "ipython",
    "version": 3
   },
   "file_extension": ".py",
   "mimetype": "text/x-python",
   "name": "python",
   "nbconvert_exporter": "python",
   "pygments_lexer": "ipython3",
   "version": "3.8.10"
  }
 },
 "nbformat": 4,
 "nbformat_minor": 4
}
