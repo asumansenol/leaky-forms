{
 "cells": [
  {
   "cell_type": "code",
   "execution_count": 33,
   "id": "6676c11a",
   "metadata": {},
   "outputs": [],
   "source": [
    "import pandas as pd\n",
    "import pickle\n",
    "from leak_common import find_prominence"
   ]
  },
  {
   "cell_type": "code",
   "execution_count": 34,
   "id": "34365a4e",
   "metadata": {},
   "outputs": [],
   "source": [
    "with open('../pkls_csvs/extra_tracker_domains.pkl', 'rb') as handle:\n",
    "    extra_tracker_domains = pickle.load(handle)"
   ]
  },
  {
   "cell_type": "code",
   "execution_count": 35,
   "id": "62c0de88",
   "metadata": {},
   "outputs": [],
   "source": [
    "df = pd.read_csv('../pkls_csvs/follow_up_crawl_desktop_nyc.csv', sep='\\t')"
   ]
  },
  {
   "cell_type": "code",
   "execution_count": 36,
   "id": "5f1ba334",
   "metadata": {},
   "outputs": [],
   "source": [
    "## Additional Columns\n",
    "df['is_blocked'] = df.easy_list_blocked | df.easy_privacy_blocked | df.disconnect_blocked | df.whotracksme_blocked | (df.tds_blocked == 'block') | (df.ublock_blocked == 'block') | (df.request_url_domain.isin(extra_tracker_domains))\n",
    "\n",
    "df['tracker_related'] = df.third_party_req & df.is_blocked"
   ]
  },
  {
   "cell_type": "code",
   "execution_count": 37,
   "id": "95e8b8fd",
   "metadata": {
    "scrolled": true
   },
   "outputs": [
    {
     "name": "stdout",
     "output_type": "stream",
     "text": [
      "all_reqs:  22322\n",
      "unique_all_reqs:  9619\n",
      "all_reqs_email:  21589\n",
      "unique_all_reqs_email:  9294\n",
      "third_party_reqs:  16130\n",
      "unique_third_party_reqs:  7724\n",
      "third_party_reqs_email:  16093\n",
      "unique_third_party_reqs_email:  7708\n",
      "tracker_related_reqs_df:  11797\n",
      "unique_tracking_related_df:  6557\n",
      "email_leaks:  11777\n",
      "unique_email_leaks:  6548\n",
      "Distinct websites where emails are leaked to both 1st, 3rd parties and tracker domains:  4399\n",
      "Distinct websites where emails are leaked to both 3rd parties and tracker domains:  3067\n",
      "Distinct websites where emails are leaked to only tracker domains:  2496\n"
     ]
    }
   ],
   "source": [
    "all_reqs = df\n",
    "unique_all_reqs = all_reqs.drop_duplicates(['initial_hostname', 'search_type', 'request_url_domain', 'encoding', 'leak_type'])\n",
    "all_reqs_email = all_reqs[all_reqs.search_type == 'email']\n",
    "unique_all_reqs_email = all_reqs_email.drop_duplicates(['initial_hostname', 'search_type', 'request_url_domain', 'encoding', 'leak_type'])\n",
    "\n",
    "print('all_reqs: ', len(all_reqs))\n",
    "print('unique_all_reqs: ', len(unique_all_reqs))\n",
    "print('all_reqs_email: ', len(all_reqs_email))\n",
    "print('unique_all_reqs_email: ', len(unique_all_reqs_email))\n",
    "\n",
    "# Third Party Requests\n",
    "\n",
    "third_party_reqs = df[df.third_party_req & ~df.is_same_party]\n",
    "unique_third_party_reqs = third_party_reqs.drop_duplicates(['initial_hostname', 'search_type', 'request_url_domain', 'encoding', 'leak_type'])\n",
    "third_party_reqs_email = third_party_reqs[third_party_reqs.search_type == 'email']\n",
    "unique_third_party_reqs_email = third_party_reqs_email.drop_duplicates(['initial_hostname', 'search_type', 'request_url_domain', 'encoding', 'leak_type'])\n",
    "\n",
    "print('third_party_reqs: ', len(third_party_reqs))\n",
    "print('unique_third_party_reqs: ', len(unique_third_party_reqs))\n",
    "print('third_party_reqs_email: ', len(third_party_reqs_email))\n",
    "print('unique_third_party_reqs_email: ', len(unique_third_party_reqs_email))\n",
    "\n",
    "# Tracking Related Requests\n",
    "\n",
    "tracker_related_reqs_df = df[~df.is_same_party & (df.leak_type!='response_cookie_leaks') & (df.leak_type!='response_location_leaks') &(df.tracker_related) & ((df.final_url_domain == df.last_page_domain) | (df.initial_url == df.last_page_domain))]\n",
    "#tracker_related_reqs_df = df[(df.leak_type!='response_cookie_leaks') & (df.leak_type!='response_location_leaks') &(df.tracker_related) & ((df.final_url_domain == df.last_page_domain) | (df.initial_url == df.last_page_domain))]\n",
    "unique_tracking_related_df = tracker_related_reqs_df.drop_duplicates(['initial_hostname', 'search_type', 'request_url_domain', 'encoding', 'leak_type'],keep='last')\n",
    "email_leaks = tracker_related_reqs_df[tracker_related_reqs_df.search_type == 'email']\n",
    "unique_email_leaks = email_leaks.drop_duplicates(['initial_hostname', 'search_type', 'request_url_domain', 'encoding', 'leak_type'])\n",
    "pwd_leaks = tracker_related_reqs_df[tracker_related_reqs_df.search_type == 'pwd']\n",
    "\n",
    "print('tracker_related_reqs_df: ', len(tracker_related_reqs_df))\n",
    "print('unique_tracking_related_df: ', len(unique_tracking_related_df))\n",
    "print('email_leaks: ', len(email_leaks))\n",
    "print('unique_email_leaks: ', len(unique_email_leaks))\n",
    "\n",
    "# High Level Statistics\n",
    "\n",
    "print('Distinct websites where emails are leaked to both 1st, 3rd parties and tracker domains: ',len(all_reqs_email.drop_duplicates('initial_hostname')))\n",
    "print('Distinct websites where emails are leaked to both 3rd parties and tracker domains: ',len(unique_third_party_reqs_email.drop_duplicates('initial_hostname')))\n",
    "print('Distinct websites where emails are leaked to only tracker domains: ',len(unique_email_leaks.drop_duplicates('initial_hostname')))"
   ]
  },
  {
   "cell_type": "code",
   "execution_count": 38,
   "id": "7cfd831d",
   "metadata": {},
   "outputs": [
    {
     "data": {
      "text/html": [
       "<div>\n",
       "<style scoped>\n",
       "    .dataframe tbody tr th:only-of-type {\n",
       "        vertical-align: middle;\n",
       "    }\n",
       "\n",
       "    .dataframe tbody tr th {\n",
       "        vertical-align: top;\n",
       "    }\n",
       "\n",
       "    .dataframe thead th {\n",
       "        text-align: right;\n",
       "    }\n",
       "</style>\n",
       "<table border=\"1\" class=\"dataframe\">\n",
       "  <thead>\n",
       "    <tr style=\"text-align: right;\">\n",
       "      <th></th>\n",
       "      <th>domain</th>\n",
       "      <th>prominence</th>\n",
       "      <th>number_of_sites</th>\n",
       "    </tr>\n",
       "  </thead>\n",
       "  <tbody>\n",
       "    <tr>\n",
       "      <th>2</th>\n",
       "      <td>rlcdn.com</td>\n",
       "      <td>0.081446</td>\n",
       "      <td>616</td>\n",
       "    </tr>\n",
       "    <tr>\n",
       "      <th>4</th>\n",
       "      <td>taboola.com</td>\n",
       "      <td>0.018976</td>\n",
       "      <td>257</td>\n",
       "    </tr>\n",
       "    <tr>\n",
       "      <th>8</th>\n",
       "      <td>bizible.com</td>\n",
       "      <td>0.018976</td>\n",
       "      <td>187</td>\n",
       "    </tr>\n",
       "    <tr>\n",
       "      <th>17</th>\n",
       "      <td>bouncex.net</td>\n",
       "      <td>0.016517</td>\n",
       "      <td>185</td>\n",
       "    </tr>\n",
       "    <tr>\n",
       "      <th>3</th>\n",
       "      <td>yahoo.com</td>\n",
       "      <td>0.012791</td>\n",
       "      <td>286</td>\n",
       "    </tr>\n",
       "    <tr>\n",
       "      <th>...</th>\n",
       "      <td>...</td>\n",
       "      <td>...</td>\n",
       "      <td>...</td>\n",
       "    </tr>\n",
       "    <tr>\n",
       "      <th>105</th>\n",
       "      <td>d1lu3pmaz2ilpx.cloudfront.net</td>\n",
       "      <td>0.000010</td>\n",
       "      <td>1</td>\n",
       "    </tr>\n",
       "    <tr>\n",
       "      <th>153</th>\n",
       "      <td>brontops.com</td>\n",
       "      <td>0.000010</td>\n",
       "      <td>1</td>\n",
       "    </tr>\n",
       "    <tr>\n",
       "      <th>125</th>\n",
       "      <td>netcoresmartech.com</td>\n",
       "      <td>0.000010</td>\n",
       "      <td>1</td>\n",
       "    </tr>\n",
       "    <tr>\n",
       "      <th>149</th>\n",
       "      <td>glassboxcloud.com</td>\n",
       "      <td>0.000010</td>\n",
       "      <td>1</td>\n",
       "    </tr>\n",
       "    <tr>\n",
       "      <th>56</th>\n",
       "      <td>livesession.io</td>\n",
       "      <td>0.000010</td>\n",
       "      <td>1</td>\n",
       "    </tr>\n",
       "  </tbody>\n",
       "</table>\n",
       "<p>165 rows × 3 columns</p>\n",
       "</div>"
      ],
      "text/plain": [
       "                            domain  prominence  number_of_sites\n",
       "2                        rlcdn.com    0.081446              616\n",
       "4                      taboola.com    0.018976              257\n",
       "8                      bizible.com    0.018976              187\n",
       "17                     bouncex.net    0.016517              185\n",
       "3                        yahoo.com    0.012791              286\n",
       "..                             ...         ...              ...\n",
       "105  d1lu3pmaz2ilpx.cloudfront.net    0.000010                1\n",
       "153                   brontops.com    0.000010                1\n",
       "125            netcoresmartech.com    0.000010                1\n",
       "149              glassboxcloud.com    0.000010                1\n",
       "56                  livesession.io    0.000010                1\n",
       "\n",
       "[165 rows x 3 columns]"
      ]
     },
     "execution_count": 38,
     "metadata": {},
     "output_type": "execute_result"
    }
   ],
   "source": [
    "distinct_websites_email_leaks = unique_email_leaks.drop_duplicates('initial_hostname')\n",
    "prominence_list_email = find_prominence(unique_email_leaks)\n",
    "prominence_email_df = pd.DataFrame(prominence_list_email, columns=['domain','prominence', 'number_of_sites']) \n",
    "prominence_email_df.sort_values(by='prominence', ascending=False)"
   ]
  },
  {
   "cell_type": "code",
   "execution_count": null,
   "id": "520a524d",
   "metadata": {},
   "outputs": [],
   "source": []
  }
 ],
 "metadata": {
  "kernelspec": {
   "display_name": "Python 3 (ipykernel)",
   "language": "python",
   "name": "python3"
  },
  "language_info": {
   "codemirror_mode": {
    "name": "ipython",
    "version": 3
   },
   "file_extension": ".py",
   "mimetype": "text/x-python",
   "name": "python",
   "nbconvert_exporter": "python",
   "pygments_lexer": "ipython3",
   "version": "3.8.10"
  }
 },
 "nbformat": 4,
 "nbformat_minor": 5
}
